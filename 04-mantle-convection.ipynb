{
 "cells": [
  {
   "cell_type": "code",
   "execution_count": null,
   "id": "municipal-average",
   "metadata": {},
   "outputs": [],
   "source": [
    "import firedrake\n",
    "from firedrake import Constant\n",
    "Lx, Ly = Constant(2.0), Constant(1.0)\n",
    "ny = 32\n",
    "nx = int(float(Lx / Ly)) * ny\n",
    "mesh = firedrake.RectangleMesh(nx, ny, float(Lx), float(Ly))\n",
    "degree = 1\n",
    "temperature_space = firedrake.FunctionSpace(mesh, 'CG', degree)\n",
    "\n",
    "Ra = Constant(1e6)"
   ]
  },
  {
   "cell_type": "code",
   "execution_count": null,
   "id": "vanilla-mineral",
   "metadata": {},
   "outputs": [],
   "source": [
    "import numpy as np\n",
    "from numpy import pi as π\n",
    "from firedrake import sqrt, exp, min_value, max_value\n",
    "\n",
    "def clamp(z, zmin, zmax):\n",
    "    return min_value(Constant(zmax), max_value(Constant(zmin), z))\n",
    "\n",
    "def switch(z):\n",
    "    return exp(z) / (exp(z) + exp(-z))\n",
    "\n",
    "ϵ = Constant(1 / nx)\n",
    "x = firedrake.SpatialCoordinate(mesh)\n",
    "\n",
    "q = Lx**(7 / 3) / (1 + Lx**4)**(2 / 3) * (Ra / (2 * np.sqrt(π)))**(2/3)\n",
    "Q = 2 * firedrake.sqrt(Lx / (π * q))\n",
    "T_u = 0.5 * switch((1 - x[1]) / 2 * sqrt(q / (x[0] + ϵ)))\n",
    "T_l = 1 - 0.5 * switch(x[1] / 2 * sqrt(q / (Lx - x[0] + ϵ)))\n",
    "T_r = 0.5 + Q / (2 * np.sqrt(π)) * sqrt(q / (x[1] + 1)) * exp(-x[0]**2 * q / (4 * x[1] + 4))\n",
    "T_s = 0.5 - Q / (2 * np.sqrt(π)) * sqrt(q / (2 - x[1])) * exp(-(Lx - x[0])**2 * q / (8 - 4 * x[1]))\n",
    "expr = T_u + T_l + T_r + T_s - Constant(1.5)\n",
    "\n",
    "T_0 = firedrake.interpolate(\n",
    "    clamp(expr, 0, 1),\n",
    "    temperature_space,\n",
    ")\n",
    "T = T_0.copy(deepcopy=True)"
   ]
  },
  {
   "cell_type": "code",
   "execution_count": null,
   "id": "blind-pound",
   "metadata": {},
   "outputs": [],
   "source": [
    "import matplotlib.pyplot as plt\n",
    "def subplots():\n",
    "    fig, axes = plt.subplots()\n",
    "    axes.set_aspect('equal')\n",
    "    axes.get_xaxis().set_visible(False)\n",
    "    axes.get_yaxis().set_visible(False)\n",
    "    axes.set_xlim(0, float(Lx))\n",
    "    axes.set_ylim(0, float(Ly))\n",
    "    return fig, axes\n",
    "\n",
    "fig, axes = subplots()\n",
    "firedrake.tripcolor(T, cmap='inferno', axes=axes);"
   ]
  },
  {
   "cell_type": "code",
   "execution_count": null,
   "id": "interim-mineral",
   "metadata": {},
   "outputs": [],
   "source": [
    "pressure_space = firedrake.FunctionSpace(mesh, 'CG', 1)\n",
    "velocity_space = firedrake.VectorFunctionSpace(mesh, 'CG', 2)\n",
    "Z = velocity_space * pressure_space\n",
    "z = firedrake.Function(Z)\n",
    "u, p = firedrake.split(z)"
   ]
  },
  {
   "cell_type": "code",
   "execution_count": null,
   "id": "integral-estate",
   "metadata": {},
   "outputs": [],
   "source": [
    "from firedrake import inner, sym, grad, div, dx, as_vector\n",
    "μ = Constant(1)\n",
    "ε = sym(grad(u))\n",
    "τ = 2 * μ * ε\n",
    "\n",
    "g = as_vector((0, -1))\n",
    "f = -Ra * T * g\n",
    "J = (0.5 * inner(τ, ε) - p * div(u) - inner(f, u)) * dx\n",
    "\n",
    "F = firedrake.derivative(J, z)\n",
    "bc = firedrake.DirichletBC(Z.sub(0), as_vector((0, 0)), 'on_boundary')"
   ]
  },
  {
   "cell_type": "code",
   "execution_count": null,
   "id": "mineral-internet",
   "metadata": {},
   "outputs": [],
   "source": [
    "from firedrake import (\n",
    "    NonlinearVariationalProblem as Problem,\n",
    "    NonlinearVariationalSolver as Solver,\n",
    "    MixedVectorSpaceBasis,\n",
    "    VectorSpaceBasis,\n",
    ")\n",
    "basis = VectorSpaceBasis(constant=True)\n",
    "nullspace = MixedVectorSpaceBasis(Z, [Z.sub(0), basis])\n",
    "stokes_problem = Problem(F, z, bc)\n",
    "parameters = {\n",
    "    'solver_parameters': {\n",
    "        'ksp_type': 'preonly',\n",
    "        'pc_type': 'lu',\n",
    "        'pc_factor_mat_solver_type': 'mumps',\n",
    "    }\n",
    "}\n",
    "stokes_solver = Solver(stokes_problem, nullspace=nullspace, **parameters)"
   ]
  },
  {
   "cell_type": "code",
   "execution_count": null,
   "id": "strange-carbon",
   "metadata": {},
   "outputs": [],
   "source": [
    "stokes_solver.solve()\n",
    "fig, axes = subplots()\n",
    "firedrake.streamplot(\n",
    "    z.sub(0), axes=axes, resolution=1/40, cmap='inferno', seed=1729\n",
    ");"
   ]
  },
  {
   "cell_type": "code",
   "execution_count": null,
   "id": "personal-cherry",
   "metadata": {},
   "outputs": [],
   "source": [
    "ρ, c, k = Constant(1), Constant(1), Constant(1)\n",
    "\n",
    "T_n = T.copy(deepcopy=True)\n",
    "J_mass = 0.5 * ρ * c * (T - T_n)**2 * dx\n",
    "J_cells = 0.5 * k * inner(grad(T), grad(T)) * dx\n",
    "\n",
    "δx = mesh.cell_sizes.dat.data_ro[:].min()\n",
    "umax = z.sub(0).dat.data_ro[:].max()\n",
    "δt = Constant(δx / umax)\n",
    "J = J_mass + δt * J_cells\n",
    "F_diffusive = firedrake.derivative(J, T)\n",
    "\n",
    "ϕ = firedrake.TestFunction(temperature_space)\n",
    "F_advective = -δt * ρ * c * T * inner(u, grad(ϕ)) * dx\n",
    "\n",
    "lower_bc = firedrake.DirichletBC(temperature_space, 1, [3])\n",
    "upper_bc = firedrake.DirichletBC(temperature_space, 0, [4])\n",
    "bcs = [lower_bc, upper_bc]\n",
    "F = F_diffusive + F_advective\n",
    "temperature_problem = Problem(F, T, bcs)\n",
    "temperature_solver = Solver(temperature_problem, **parameters)"
   ]
  },
  {
   "cell_type": "code",
   "execution_count": null,
   "id": "solid-federal",
   "metadata": {},
   "outputs": [],
   "source": [
    "import tqdm\n",
    "final_time = 1.\n",
    "num_steps = int(final_time / float(δt))\n",
    "Ts = [T.copy(deepcopy=True)]\n",
    "zs = [z.copy(deepcopy=True)]\n",
    "output_freq = 1\n",
    "\n",
    "for step in tqdm.trange(num_steps):\n",
    "    temperature_solver.solve()\n",
    "    stokes_solver.solve()\n",
    "    T_n.assign(T)\n",
    "    \n",
    "    if (step + 1) % output_freq == 0:\n",
    "        Ts.append(T.copy(deepcopy=True))\n",
    "        zs.append(z.copy(deepcopy=True))"
   ]
  },
  {
   "cell_type": "code",
   "execution_count": null,
   "id": "returning-religion",
   "metadata": {},
   "outputs": [],
   "source": [
    "%%capture\n",
    "fig, axes = subplots()\n",
    "colors = firedrake.tripcolor(\n",
    "    Ts[0], num_sample_points=4, vmin=0.0, vmax=1.0, cmap='inferno', axes=axes\n",
    ")"
   ]
  },
  {
   "cell_type": "code",
   "execution_count": null,
   "id": "directed-server",
   "metadata": {},
   "outputs": [],
   "source": [
    "from matplotlib.animation import FuncAnimation\n",
    "fn_plotter = firedrake.FunctionPlotter(mesh, num_sample_points=4)\n",
    "def animate(T):\n",
    "    colors.set_array(fn_plotter(T))\n",
    "\n",
    "animation = FuncAnimation(fig, animate, frames=Ts, interval=1e3/24)"
   ]
  },
  {
   "cell_type": "code",
   "execution_count": null,
   "id": "brief-confidence",
   "metadata": {},
   "outputs": [],
   "source": [
    "from IPython.display import HTML\n",
    "HTML(animation.to_html5_video())"
   ]
  },
  {
   "cell_type": "code",
   "execution_count": null,
   "id": "legal-guest",
   "metadata": {},
   "outputs": [],
   "source": [
    "z = zs[-1]\n",
    "u, p = z.split()\n",
    "fig, axes = subplots()\n",
    "firedrake.streamplot(\n",
    "    u, axes=axes, resolution=1/40, cmap='inferno', seed=1729\n",
    ");"
   ]
  }
 ],
 "metadata": {
  "kernelspec": {
   "display_name": "firedrake",
   "language": "python",
   "name": "firedrake"
  },
  "language_info": {
   "codemirror_mode": {
    "name": "ipython",
    "version": 3
   },
   "file_extension": ".py",
   "mimetype": "text/x-python",
   "name": "python",
   "nbconvert_exporter": "python",
   "pygments_lexer": "ipython3",
   "version": "3.8.3"
  }
 },
 "nbformat": 4,
 "nbformat_minor": 5
}
