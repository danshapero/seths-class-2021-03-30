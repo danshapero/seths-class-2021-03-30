{
 "cells": [
  {
   "cell_type": "code",
   "execution_count": null,
   "id": "municipal-average",
   "metadata": {},
   "outputs": [],
   "source": [
    "import firedrake\n",
    "mesh = firedrake.UnitSquareMesh(32, 32)\n",
    "degree = 1\n",
    "temperature_space = firedrake.FunctionSpace(mesh, 'CG', degree)"
   ]
  },
  {
   "cell_type": "code",
   "execution_count": null,
   "id": "vanilla-mineral",
   "metadata": {},
   "outputs": [],
   "source": [
    "from firedrake import exp, Constant\n",
    "def Θ(x):\n",
    "    return exp(x) / (exp(x) + exp(-x))\n",
    "\n",
    "T_0 = Constant(0.0)\n",
    "δT = Constant(1.0)\n",
    "x = firedrake.SpatialCoordinate(mesh)\n",
    "x_0 = Constant(0.25)\n",
    "α = Constant(8.0)\n",
    "T_Γ = Θ(α * (x_0 - x[0]))"
   ]
  },
  {
   "cell_type": "code",
   "execution_count": null,
   "id": "interim-mineral",
   "metadata": {},
   "outputs": [],
   "source": [
    "pressure_space = firedrake.FunctionSpace(mesh, 'CG', 1)\n",
    "velocity_space = firedrake.VectorFunctionSpace(mesh, 'CG', 2)\n",
    "Z = velocity_space * pressure_space\n",
    "z = firedrake.Function(Z)\n",
    "u, p = firedrake.split(z)"
   ]
  },
  {
   "cell_type": "code",
   "execution_count": null,
   "id": "amended-conditioning",
   "metadata": {},
   "outputs": [],
   "source": [
    "from firedrake import inner, grad, dx, ds\n",
    "ρ = Constant(1)\n",
    "c = Constant(1)\n",
    "k = Constant(1e-3)\n",
    "h = Constant(10 * k)\n",
    "\n",
    "T = firedrake.Function(temperature_space)\n",
    "T_n = T.copy(deepcopy=True)\n",
    "J_mass = 0.5 * ρ * c * (T - T_n)**2 * dx\n",
    "J_cells = 0.5 * k * inner(grad(T), grad(T)) * dx\n",
    "J_boundary = 0.5 * h * (T - T_Γ)**2 * ds((3,)) + 0.5 * h * T**2 * ds((1, 2, 4))\n",
    "\n",
    "δt = Constant(1e-1)\n",
    "J = J_mass + δt * (J_cells + J_boundary)\n",
    "F_diffusive = firedrake.derivative(J, T)\n",
    "\n",
    "ϕ = firedrake.TestFunction(temperature_space)\n",
    "F_advective = -δt * ρ * c * T * inner(u, grad(ϕ)) * dx\n",
    "\n",
    "from firedrake import (\n",
    "    NonlinearVariationalProblem as Problem,\n",
    "    NonlinearVariationalSolver as Solver,\n",
    ")\n",
    "\n",
    "F = F_diffusive + F_advective\n",
    "temperature_problem = Problem(F, T)\n",
    "temperature_solver = Solver(temperature_problem)"
   ]
  },
  {
   "cell_type": "code",
   "execution_count": null,
   "id": "following-outreach",
   "metadata": {},
   "outputs": [],
   "source": [
    "from firedrake import MixedVectorSpaceBasis, VectorSpaceBasis\n",
    "basis = VectorSpaceBasis(constant=True)\n",
    "nullspace = MixedVectorSpaceBasis(Z, [Z.sub(0), basis])"
   ]
  },
  {
   "cell_type": "code",
   "execution_count": null,
   "id": "integral-estate",
   "metadata": {},
   "outputs": [],
   "source": [
    "from firedrake import sym, div, as_vector\n",
    "μ = Constant(1e2)\n",
    "ε = sym(grad(u))\n",
    "τ = 2 * μ * ε\n",
    "\n",
    "g = as_vector((0, -1))\n",
    "f = -T * g\n",
    "J = (0.5 * inner(τ, ε) - p * div(u) - inner(f, u)) * dx\n",
    "\n",
    "F = firedrake.derivative(J, z)\n",
    "bc = firedrake.DirichletBC(Z.sub(0), as_vector((0, 0)), 'on_boundary')\n",
    "stokes_problem = Problem(F, z, bc)\n",
    "stokes_solver = Solver(stokes_problem, nullspace=nullspace)"
   ]
  },
  {
   "cell_type": "code",
   "execution_count": null,
   "id": "solid-federal",
   "metadata": {},
   "outputs": [],
   "source": [
    "import tqdm\n",
    "final_time = 1e2\n",
    "num_steps = int(final_time / float(δt))\n",
    "Ts = [T.copy(deepcopy=True)]\n",
    "zs = [z.copy(deepcopy=True)]\n",
    "output_freq = 10\n",
    "for step in tqdm.trange(num_steps):\n",
    "    temperature_solver.solve()\n",
    "    stokes_solver.solve()\n",
    "    T_n.assign(T)\n",
    "    \n",
    "    if (step + 1) % output_freq == 0:\n",
    "        Ts.append(T.copy(deepcopy=True))\n",
    "        zs.append(z.copy(deepcopy=True))"
   ]
  },
  {
   "cell_type": "code",
   "execution_count": null,
   "id": "returning-religion",
   "metadata": {},
   "outputs": [],
   "source": [
    "%%capture\n",
    "import matplotlib.pyplot as plt\n",
    "fig, axes = plt.subplots()\n",
    "axes.set_aspect('equal')\n",
    "colors = firedrake.tripcolor(\n",
    "    Ts[0], num_sample_points=4, vmin=0.0, vmax=0.5, axes=axes\n",
    ")\n",
    "fig.colorbar(colors);"
   ]
  },
  {
   "cell_type": "code",
   "execution_count": null,
   "id": "directed-server",
   "metadata": {},
   "outputs": [],
   "source": [
    "from matplotlib.animation import FuncAnimation\n",
    "fn_plotter = firedrake.FunctionPlotter(mesh, num_sample_points=4)\n",
    "def animate(T):\n",
    "    colors.set_array(fn_plotter(T))\n",
    "    \n",
    "interval = 1e3 * output_freq * float(δt) / 10\n",
    "animation = FuncAnimation(fig, animate, frames=Ts, interval=interval)"
   ]
  },
  {
   "cell_type": "code",
   "execution_count": null,
   "id": "brief-confidence",
   "metadata": {},
   "outputs": [],
   "source": [
    "from IPython.display import HTML\n",
    "HTML(animation.to_jshtml())"
   ]
  },
  {
   "cell_type": "code",
   "execution_count": null,
   "id": "legal-guest",
   "metadata": {},
   "outputs": [],
   "source": [
    "z = zs[-1]\n",
    "u, p = z.split()\n",
    "fig, axes = plt.subplots()\n",
    "axes.set_aspect('equal')\n",
    "streamlines = firedrake.streamplot(u, axes=axes, seed=1729)\n",
    "fig.colorbar(streamlines);"
   ]
  }
 ],
 "metadata": {
  "kernelspec": {
   "display_name": "firedrake",
   "language": "python",
   "name": "firedrake"
  },
  "language_info": {
   "codemirror_mode": {
    "name": "ipython",
    "version": 3
   },
   "file_extension": ".py",
   "mimetype": "text/x-python",
   "name": "python",
   "nbconvert_exporter": "python",
   "pygments_lexer": "ipython3",
   "version": "3.8.3"
  }
 },
 "nbformat": 4,
 "nbformat_minor": 5
}
