{
 "cells": [
  {
   "cell_type": "code",
   "execution_count": null,
   "id": "nuclear-czech",
   "metadata": {},
   "outputs": [],
   "source": [
    "import firedrake\n",
    "mesh = firedrake.UnitSquareMesh(\n",
    "    32, 32, diagonal='crossed'\n",
    ")"
   ]
  },
  {
   "cell_type": "code",
   "execution_count": null,
   "id": "random-cleaning",
   "metadata": {},
   "outputs": [],
   "source": [
    "from firedrake import inner, exp, Constant\n",
    "x = firedrake.SpatialCoordinate(mesh)\n",
    "\n",
    "ξ_1 = Constant((0.25, 0.25))\n",
    "ξ_2 = Constant((0.75, 0.75))\n",
    "\n",
    "r_1 = Constant(1 / 8)\n",
    "r_2 = Constant(1 / 8)\n",
    "\n",
    "ϕ_1 = exp(-inner(x - ξ_1, x - ξ_1) / r_1**2)\n",
    "ϕ_2 = exp(-inner(x - ξ_2, x - ξ_2) / r_2**2)\n",
    "\n",
    "I = firedrake.Identity(2)\n",
    "ω = Constant(0.5)\n",
    "J = firedrake.as_tensor([[0, +ω], [-ω, 0]])\n",
    "\n",
    "s = Constant(50.0)\n",
    "U = s * (\n",
    "    ϕ_1 * (I + J) * (x - ξ_1) -\n",
    "    ϕ_2 * (I + J) * (x - ξ_2)\n",
    ")"
   ]
  },
  {
   "cell_type": "code",
   "execution_count": null,
   "id": "champion-egyptian",
   "metadata": {},
   "outputs": [],
   "source": [
    "V = firedrake.VectorFunctionSpace(mesh, 'CG', 2)\n",
    "u = firedrake.interpolate(U, V)"
   ]
  },
  {
   "cell_type": "code",
   "execution_count": null,
   "id": "passive-naples",
   "metadata": {},
   "outputs": [],
   "source": [
    "from firedrake import grad, div\n",
    "Σ = firedrake.TensorFunctionSpace(mesh, 'CG', 2)\n",
    "F = firedrake.interpolate(grad(U), Σ)\n",
    "\n",
    "Q = firedrake.FunctionSpace(mesh, 'CG', 2)\n",
    "div_u = firedrake.interpolate(div(U), Q)"
   ]
  },
  {
   "cell_type": "code",
   "execution_count": null,
   "id": "resistant-springer",
   "metadata": {},
   "outputs": [],
   "source": [
    "import matplotlib.pyplot as plt\n",
    "fig, axes = plt.subplots()\n",
    "streamlines = firedrake.streamplot(u, resolution=1/40, axes=axes)\n",
    "fig.colorbar(streamlines);"
   ]
  },
  {
   "cell_type": "code",
   "execution_count": null,
   "id": "subtle-denial",
   "metadata": {},
   "outputs": [],
   "source": [
    "fig, axes = plt.subplots()\n",
    "colors = firedrake.tripcolor(div_u, cmap='RdBu', axes=axes)\n",
    "fig.colorbar(colors);"
   ]
  },
  {
   "cell_type": "code",
   "execution_count": null,
   "id": "seasonal-worth",
   "metadata": {},
   "outputs": [],
   "source": [
    "import numpy as np\n",
    "import scipy.integrate\n",
    "\n",
    "xs = np.linspace(0.175, 0.325, 6)\n",
    "ys = np.linspace(0.3, 0.45, 6)\n",
    "\n",
    "def f(t, x):\n",
    "    try:\n",
    "        return u(x)\n",
    "    except firedrake.PointNotInDomainError:\n",
    "        return np.array([0.0, 0.0])\n",
    "    \n",
    "def jac(t, x):\n",
    "    try:\n",
    "        return F(x)\n",
    "    except  firedrake.PointNotInDomainError:\n",
    "        return np.array([[0.0, 0.0], [0.0, 0.0]])\n",
    "\n",
    "results = []\n",
    "for x in xs:\n",
    "    for y in ys:\n",
    "        result = scipy.integrate.solve_ivp(\n",
    "            f,\n",
    "            jac=jac,\n",
    "            t_span=(0.0, 7.05),\n",
    "            dense_output=True,\n",
    "            y0=(x, y),\n",
    "            method='LSODA',\n",
    "        )\n",
    "        results.append(result)"
   ]
  },
  {
   "cell_type": "code",
   "execution_count": null,
   "id": "sealed-anniversary",
   "metadata": {},
   "outputs": [],
   "source": [
    "fig, axes = plt.subplots()\n",
    "axes.set_aspect('equal')\n",
    "axes.set_xlim((0, 1))\n",
    "axes.set_ylim((0, 1))\n",
    "firedrake.tripcolor(div_u, cmap='RdBu', axes=axes)\n",
    "for result in results:\n",
    "    ts = np.linspace(0.0, 7.05, 2001)\n",
    "    xs = result.sol(ts)\n",
    "    axes.plot(xs[0, :], xs[1, :], color='k');"
   ]
  }
 ],
 "metadata": {
  "kernelspec": {
   "display_name": "firedrake",
   "language": "python",
   "name": "firedrake"
  },
  "language_info": {
   "codemirror_mode": {
    "name": "ipython",
    "version": 3
   },
   "file_extension": ".py",
   "mimetype": "text/x-python",
   "name": "python",
   "nbconvert_exporter": "python",
   "pygments_lexer": "ipython3",
   "version": "3.8.3"
  }
 },
 "nbformat": 4,
 "nbformat_minor": 5
}
