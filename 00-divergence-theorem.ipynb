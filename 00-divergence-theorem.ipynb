{
 "cells": [
  {
   "cell_type": "code",
   "execution_count": null,
   "id": "nuclear-czech",
   "metadata": {},
   "outputs": [],
   "source": [
    "import firedrake\n",
    "mesh = firedrake.UnitSquareMesh(\n",
    "    32, 32, diagonal='crossed'\n",
    ")"
   ]
  },
  {
   "cell_type": "code",
   "execution_count": null,
   "id": "random-cleaning",
   "metadata": {},
   "outputs": [],
   "source": [
    "from firedrake import inner, exp, Constant\n",
    "x = firedrake.SpatialCoordinate(mesh)\n",
    "\n",
    "ξ_1 = Constant((0.25, 0.25))\n",
    "ξ_2 = Constant((0.75, 0.75))\n",
    "\n",
    "r_1 = Constant(1 / 8)\n",
    "r_2 = Constant(1 / 8)\n",
    "\n",
    "ϕ_1 = exp(-inner(x - ξ_1, x - ξ_1) / r_1**2)\n",
    "ϕ_2 = exp(-inner(x - ξ_2, x - ξ_2) / r_2**2)\n",
    "\n",
    "I = firedrake.Identity(2)\n",
    "ω = Constant(0.5)\n",
    "J = firedrake.as_tensor([[0, +ω], [-ω, 0]])\n",
    "\n",
    "s = Constant(50.0)\n",
    "U = s * (\n",
    "    ϕ_1 * (I + J) * (x - ξ_1) -\n",
    "    ϕ_2 * (I + J) * (x - ξ_2)\n",
    ")"
   ]
  },
  {
   "cell_type": "code",
   "execution_count": null,
   "id": "champion-egyptian",
   "metadata": {},
   "outputs": [],
   "source": [
    "V = firedrake.VectorFunctionSpace(mesh, 'CG', 2)\n",
    "u = firedrake.interpolate(U, V)"
   ]
  },
  {
   "cell_type": "code",
   "execution_count": null,
   "id": "passive-naples",
   "metadata": {},
   "outputs": [],
   "source": [
    "from firedrake import grad, div\n",
    "Σ = firedrake.TensorFunctionSpace(mesh, 'CG', 2)\n",
    "F = firedrake.interpolate(grad(U), Σ)\n",
    "\n",
    "Q = firedrake.FunctionSpace(mesh, 'CG', 2)\n",
    "div_u = firedrake.interpolate(div(U), Q)"
   ]
  },
  {
   "cell_type": "code",
   "execution_count": null,
   "id": "resistant-springer",
   "metadata": {},
   "outputs": [],
   "source": [
    "import matplotlib.pyplot as plt\n",
    "fig, axes = plt.subplots()\n",
    "streamlines = firedrake.streamplot(u, resolution=1/40, axes=axes)\n",
    "fig.colorbar(streamlines);"
   ]
  },
  {
   "cell_type": "code",
   "execution_count": null,
   "id": "differential-marketplace",
   "metadata": {},
   "outputs": [],
   "source": [
    "def f(t, x):\n",
    "    try:\n",
    "        return u(x)\n",
    "    except firedrake.PointNotInDomainError:\n",
    "        return np.array([0.0, 0.0])\n",
    "    \n",
    "def jac(t, x):\n",
    "    try:\n",
    "        return F(x)\n",
    "    except  firedrake.PointNotInDomainError:\n",
    "        return np.array([[0.0, 0.0], [0.0, 0.0]])"
   ]
  },
  {
   "cell_type": "code",
   "execution_count": null,
   "id": "seasonal-worth",
   "metadata": {},
   "outputs": [],
   "source": [
    "import numpy as np\n",
    "import scipy.integrate\n",
    "\n",
    "def integrate_grid(xs, ys, ts):\n",
    "    results = np.zeros((len(xs), len(ys), 2, len(ts)))\n",
    "    for i, x in enumerate(xs):\n",
    "        for j, y in enumerate(ys):\n",
    "            result = scipy.integrate.solve_ivp(\n",
    "                f,\n",
    "                jac=jac,\n",
    "                t_span=(ts[0], ts[-1]),\n",
    "                dense_output=True,\n",
    "                y0=(x, y),\n",
    "                method='LSODA',\n",
    "                atol=1e-6,\n",
    "            )\n",
    "            results[i, j, :, :] = result.sol(ts)\n",
    "            \n",
    "    return results"
   ]
  },
  {
   "cell_type": "code",
   "execution_count": null,
   "id": "royal-validation",
   "metadata": {},
   "outputs": [],
   "source": [
    "xs = np.linspace(0.2, 0.3, 6)\n",
    "ys = np.linspace(0.2, 0.3, 6)\n",
    "ts = np.linspace(0, 0.1, 101)\n",
    "results1 = integrate_grid(xs, ys, ts)"
   ]
  },
  {
   "cell_type": "code",
   "execution_count": null,
   "id": "pointed-pizza",
   "metadata": {},
   "outputs": [],
   "source": [
    "xs = np.linspace(0.675, 0.825, 6)\n",
    "ys = np.linspace(0.675, 0.825, 6)\n",
    "results2 = integrate_grid(xs, ys, ts)"
   ]
  },
  {
   "cell_type": "code",
   "execution_count": null,
   "id": "isolated-vampire",
   "metadata": {},
   "outputs": [],
   "source": [
    "%%capture\n",
    "fig, axes = plt.subplots()\n",
    "axes.set_aspect('equal')\n",
    "axes.set_xlim((0, 1))\n",
    "axes.set_ylim((0, 1))\n",
    "axes.get_xaxis().set_visible(False)\n",
    "axes.get_yaxis().set_visible(False)\n",
    "firedrake.tripcolor(div_u, cmap='RdBu_r', axes=axes)\n",
    "\n",
    "lines1 = [\n",
    "    axes.plot(*results1[:, 0, :, 0].T, color='k')[0],\n",
    "    axes.plot(*results1[:, -1, :, 0].T, color='k')[0],\n",
    "    axes.plot(*results1[0, :, :, 0].T, color='k')[0],\n",
    "    axes.plot(*results1[-1, :, :, 0].T, color='k')[0],\n",
    "]\n",
    "\n",
    "lines2 = [\n",
    "    axes.plot(*results2[:, 0, :, 0].T, color='k')[0],\n",
    "    axes.plot(*results2[:, -1, :, 0].T, color='k')[0],\n",
    "    axes.plot(*results2[0, :, :, 0].T, color='k')[0],\n",
    "    axes.plot(*results2[-1, :, :, 0].T, color='k')[0],\n",
    "]"
   ]
  },
  {
   "cell_type": "code",
   "execution_count": null,
   "id": "apparent-placement",
   "metadata": {},
   "outputs": [],
   "source": [
    "from matplotlib.animation import FuncAnimation\n",
    "\n",
    "def animate(index):\n",
    "    global lines1, results2\n",
    "    lines1[0].set_data(*results1[:, 0, :, index].T)\n",
    "    lines1[1].set_data(*results1[:, -1, :, index].T)\n",
    "    lines1[2].set_data(*results1[0, :, :, index].T)\n",
    "    lines1[3].set_data(*results1[-1, :, :, index].T)\n",
    "\n",
    "    lines2[0].set_data(*results2[:, 0, :, index].T)\n",
    "    lines2[1].set_data(*results2[:, -1, :, index].T)\n",
    "    lines2[2].set_data(*results2[0, :, :, index].T)\n",
    "    lines2[3].set_data(*results2[-1, :, :, index].T)\n",
    "\n",
    "animation = FuncAnimation(fig, animate, frames=list(range(len(ts))), interval=1e3/30)"
   ]
  },
  {
   "cell_type": "code",
   "execution_count": null,
   "id": "detailed-gibson",
   "metadata": {},
   "outputs": [],
   "source": [
    "from IPython.display import HTML\n",
    "HTML(animation.to_html5_video())"
   ]
  }
 ],
 "metadata": {
  "kernelspec": {
   "display_name": "firedrake",
   "language": "python",
   "name": "firedrake"
  },
  "language_info": {
   "codemirror_mode": {
    "name": "ipython",
    "version": 3
   },
   "file_extension": ".py",
   "mimetype": "text/x-python",
   "name": "python",
   "nbconvert_exporter": "python",
   "pygments_lexer": "ipython3",
   "version": "3.8.3"
  }
 },
 "nbformat": 4,
 "nbformat_minor": 5
}
