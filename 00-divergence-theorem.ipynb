{
 "cells": [
  {
   "cell_type": "code",
   "execution_count": null,
   "id": "nuclear-czech",
   "metadata": {},
   "outputs": [],
   "source": [
    "import firedrake\n",
    "mesh = firedrake.UnitSquareMesh(\n",
    "    32, 32, diagonal='crossed'\n",
    ")"
   ]
  },
  {
   "cell_type": "code",
   "execution_count": null,
   "id": "random-cleaning",
   "metadata": {},
   "outputs": [],
   "source": [
    "from firedrake import inner, exp, Constant\n",
    "x = firedrake.SpatialCoordinate(mesh)\n",
    "\n",
    "ξ_1 = Constant((0.25, 0.25))\n",
    "ξ_2 = Constant((0.75, 0.75))\n",
    "\n",
    "r_1 = Constant(1 / 8)\n",
    "r_2 = Constant(1 / 8)\n",
    "\n",
    "ϕ_1 = exp(-inner(x - ξ_1, x - ξ_1) / r_1**2)\n",
    "ϕ_2 = exp(-inner(x - ξ_2, x - ξ_2) / r_2**2)\n",
    "\n",
    "I = firedrake.Identity(2)\n",
    "ω = Constant(0.5)\n",
    "J = firedrake.as_tensor([[0, +ω], [-ω, 0]])\n",
    "\n",
    "s = Constant(50.0)\n",
    "U = s * (\n",
    "    ϕ_1 * (I + J) * (x - ξ_1) -\n",
    "    ϕ_2 * (I + J) * (x - ξ_2)\n",
    ")"
   ]
  },
  {
   "cell_type": "code",
   "execution_count": null,
   "id": "champion-egyptian",
   "metadata": {},
   "outputs": [],
   "source": [
    "V = firedrake.VectorFunctionSpace(mesh, 'CG', 2)\n",
    "u = firedrake.interpolate(U, V)"
   ]
  },
  {
   "cell_type": "code",
   "execution_count": null,
   "id": "passive-naples",
   "metadata": {},
   "outputs": [],
   "source": [
    "from firedrake import grad, div\n",
    "Σ = firedrake.TensorFunctionSpace(mesh, 'CG', 2)\n",
    "F = firedrake.interpolate(grad(U), Σ)\n",
    "\n",
    "Q = firedrake.FunctionSpace(mesh, 'CG', 2)\n",
    "div_u = firedrake.interpolate(div(U), Q)"
   ]
  },
  {
   "cell_type": "code",
   "execution_count": null,
   "id": "resistant-springer",
   "metadata": {},
   "outputs": [],
   "source": [
    "import matplotlib.pyplot as plt\n",
    "fig, axes = plt.subplots()\n",
    "streamlines = firedrake.streamplot(u, resolution=1/40, axes=axes)\n",
    "fig.colorbar(streamlines);"
   ]
  },
  {
   "cell_type": "code",
   "execution_count": null,
   "id": "subtle-denial",
   "metadata": {},
   "outputs": [],
   "source": [
    "fig, axes = plt.subplots()\n",
    "colors = firedrake.tripcolor(div_u, cmap='RdBu', axes=axes)\n",
    "fig.colorbar(colors);"
   ]
  },
  {
   "cell_type": "code",
   "execution_count": null,
   "id": "seasonal-worth",
   "metadata": {},
   "outputs": [],
   "source": [
    "import numpy as np\n",
    "import scipy.integrate\n",
    "\n",
    "xs = np.linspace(0.175, 0.325, 31)\n",
    "ys = np.linspace(0.3, 0.45, 31)\n",
    "\n",
    "def f(t, x):\n",
    "    try:\n",
    "        return u(x)\n",
    "    except firedrake.PointNotInDomainError:\n",
    "        return np.array([0.0, 0.0])\n",
    "    \n",
    "def jac(t, x):\n",
    "    try:\n",
    "        return F(x)\n",
    "    except  firedrake.PointNotInDomainError:\n",
    "        return np.array([[0.0, 0.0], [0.0, 0.0]])\n",
    "    \n",
    "ts = np.linspace(0, 6.95, 2001)\n",
    "results = np.zeros((len(xs), len(ys), 2, len(ts)))\n",
    "for i, x in enumerate(xs):\n",
    "    for j, y in enumerate(ys):\n",
    "        result = scipy.integrate.solve_ivp(\n",
    "            f,\n",
    "            jac=jac,\n",
    "            t_span=(0.0, ts[-1]),\n",
    "            dense_output=True,\n",
    "            y0=(x, y),\n",
    "            method='LSODA',\n",
    "            atol=1e-6,\n",
    "        )\n",
    "        results[i, j, :, :] = result.sol(ts)"
   ]
  },
  {
   "cell_type": "code",
   "execution_count": null,
   "id": "young-territory",
   "metadata": {},
   "outputs": [],
   "source": [
    "%%capture\n",
    "fig, axes = plt.subplots()\n",
    "axes.set_aspect('equal')\n",
    "axes.set_xlim((0, 1))\n",
    "axes.set_ylim((0, 1))\n",
    "firedrake.tripcolor(div_u, cmap='RdBu', axes=axes)\n",
    "\n",
    "lines = [\n",
    "    axes.plot(*results[:, 0, :, 0].T, color='k')[0],\n",
    "    axes.plot(*results[:, -1, :, 0].T, color='k')[0],\n",
    "    axes.plot(*results[0, :, :, 0].T, color='k')[0],\n",
    "    axes.plot(*results[-1, :, :, 0].T, color='k')[0],\n",
    "]\n"
   ]
  },
  {
   "cell_type": "code",
   "execution_count": null,
   "id": "conventional-biography",
   "metadata": {},
   "outputs": [],
   "source": [
    "from matplotlib.animation import FuncAnimation\n",
    "\n",
    "def animate(index):\n",
    "    global lines\n",
    "    lines[0].set_data(*results[:, 0, :, index].T)\n",
    "    lines[1].set_data(*results[:, -1, :, index].T)\n",
    "    lines[2].set_data(*results[0, :, :, index].T)\n",
    "    lines[3].set_data(*results[-1, :, :, index].T)\n",
    "    \n",
    "animation = FuncAnimation(fig, animate, frames=list(range(len(ts))), interval=1e3/60)"
   ]
  },
  {
   "cell_type": "code",
   "execution_count": null,
   "id": "numeric-intake",
   "metadata": {},
   "outputs": [],
   "source": [
    "from IPython.display import HTML\n",
    "HTML(animation.to_html5_video())"
   ]
  }
 ],
 "metadata": {
  "kernelspec": {
   "display_name": "firedrake",
   "language": "python",
   "name": "firedrake"
  },
  "language_info": {
   "codemirror_mode": {
    "name": "ipython",
    "version": 3
   },
   "file_extension": ".py",
   "mimetype": "text/x-python",
   "name": "python",
   "nbconvert_exporter": "python",
   "pygments_lexer": "ipython3",
   "version": "3.8.3"
  }
 },
 "nbformat": 4,
 "nbformat_minor": 5
}
