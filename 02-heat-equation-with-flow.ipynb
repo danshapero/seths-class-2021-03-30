{
 "cells": [
  {
   "cell_type": "code",
   "execution_count": null,
   "id": "municipal-average",
   "metadata": {},
   "outputs": [],
   "source": [
    "import firedrake\n",
    "mesh = firedrake.UnitSquareMesh(32, 32)\n",
    "degree = 1\n",
    "temperature_space = firedrake.FunctionSpace(mesh, 'CG', degree)"
   ]
  },
  {
   "cell_type": "code",
   "execution_count": null,
   "id": "vanilla-mineral",
   "metadata": {},
   "outputs": [],
   "source": [
    "from firedrake import exp, Constant\n",
    "def Θ(x):\n",
    "    return exp(x) / (exp(x) + exp(-x))\n",
    "\n",
    "T_0 = Constant(0.0)\n",
    "δT = Constant(1.0)\n",
    "x = firedrake.SpatialCoordinate(mesh)\n",
    "x_0 = Constant(0.25)\n",
    "α = Constant(8.0)\n",
    "T_Γ = Θ(α * (x_0 - x[0]))"
   ]
  },
  {
   "cell_type": "code",
   "execution_count": null,
   "id": "little-criterion",
   "metadata": {},
   "outputs": [],
   "source": [
    "from firedrake import grad, as_vector\n",
    "velocity_space = firedrake.VectorFunctionSpace(mesh, 'CG', 2)\n",
    "U = Constant(50)\n",
    "Ψ = U * x[0]**2 * (1 - x[0])**2 * x[1]**2 * (1 - x[1])**2\n",
    "grad_Ψ = grad(Ψ)\n",
    "u = firedrake.interpolate(\n",
    "    as_vector((-grad_Ψ[1], grad_Ψ[0])),\n",
    "    velocity_space,\n",
    ")"
   ]
  },
  {
   "cell_type": "code",
   "execution_count": null,
   "id": "thorough-defense",
   "metadata": {},
   "outputs": [],
   "source": [
    "import matplotlib.pyplot as plt\n",
    "fig, axes = plt.subplots()\n",
    "axes.set_aspect('equal')\n",
    "streamlines = firedrake.streamplot(u, axes=axes, seed=1729)\n",
    "fig.colorbar(streamlines);"
   ]
  },
  {
   "cell_type": "code",
   "execution_count": null,
   "id": "amended-conditioning",
   "metadata": {},
   "outputs": [],
   "source": [
    "from firedrake import inner, dx, ds\n",
    "ρ = Constant(1)\n",
    "c = Constant(1)\n",
    "k = Constant(1e-3)\n",
    "h = Constant(10 * k)\n",
    "\n",
    "T = firedrake.Function(temperature_space)\n",
    "T_n = T.copy(deepcopy=True)\n",
    "J_mass = 0.5 * ρ * c * (T - T_n)**2 * dx\n",
    "J_cells = 0.5 * k * inner(grad(T), grad(T)) * dx\n",
    "J_boundary = 0.5 * h * (T - T_Γ)**2 * ds((3,)) + 0.5 * h * T**2 * ds((1, 2, 4))\n",
    "\n",
    "δt = Constant(1e-1)\n",
    "J = J_mass + δt * (J_cells + J_boundary)\n",
    "F_diffusive = firedrake.derivative(J, T)"
   ]
  },
  {
   "cell_type": "code",
   "execution_count": null,
   "id": "cathedral-excerpt",
   "metadata": {},
   "outputs": [],
   "source": [
    "ϕ = firedrake.TestFunction(temperature_space)\n",
    "F_advective = -δt * ρ * c * T * inner(u, grad(ϕ)) * dx"
   ]
  },
  {
   "cell_type": "code",
   "execution_count": null,
   "id": "precious-consumer",
   "metadata": {},
   "outputs": [],
   "source": [
    "from firedrake import (\n",
    "    NonlinearVariationalProblem as Problem,\n",
    "    NonlinearVariationalSolver as Solver,\n",
    ")\n",
    "\n",
    "F = F_diffusive + F_advective\n",
    "problem = Problem(F, T)\n",
    "solver = Solver(problem)"
   ]
  },
  {
   "cell_type": "code",
   "execution_count": null,
   "id": "solid-federal",
   "metadata": {},
   "outputs": [],
   "source": [
    "import tqdm\n",
    "final_time = 1e2\n",
    "num_steps = int(final_time / float(δt))\n",
    "Ts = [T.copy(deepcopy=True)]\n",
    "output_freq = 10\n",
    "for step in tqdm.trange(num_steps):\n",
    "    solver.solve()\n",
    "    T_n.assign(T)\n",
    "    \n",
    "    if (step + 1) % output_freq == 0:\n",
    "        Ts.append(T.copy(deepcopy=True))"
   ]
  },
  {
   "cell_type": "code",
   "execution_count": null,
   "id": "returning-religion",
   "metadata": {},
   "outputs": [],
   "source": [
    "%%capture\n",
    "fig, axes = plt.subplots()\n",
    "axes.set_aspect('equal')\n",
    "colors = firedrake.tripcolor(\n",
    "    Ts[0], num_sample_points=4, vmin=0.0, vmax=0.05, axes=axes\n",
    ")\n",
    "fig.colorbar(colors);"
   ]
  },
  {
   "cell_type": "code",
   "execution_count": null,
   "id": "directed-server",
   "metadata": {},
   "outputs": [],
   "source": [
    "from matplotlib.animation import FuncAnimation\n",
    "fn_plotter = firedrake.FunctionPlotter(mesh, num_sample_points=4)\n",
    "def animate(T):\n",
    "    colors.set_array(fn_plotter(T))\n",
    "    \n",
    "interval = 1e3 * output_freq * float(δt) / 10\n",
    "animation = FuncAnimation(fig, animate, frames=Ts, interval=interval)"
   ]
  },
  {
   "cell_type": "code",
   "execution_count": null,
   "id": "brief-confidence",
   "metadata": {},
   "outputs": [],
   "source": [
    "from IPython.display import HTML\n",
    "HTML(animation.to_jshtml())"
   ]
  }
 ],
 "metadata": {
  "kernelspec": {
   "display_name": "firedrake",
   "language": "python",
   "name": "firedrake"
  },
  "language_info": {
   "codemirror_mode": {
    "name": "ipython",
    "version": 3
   },
   "file_extension": ".py",
   "mimetype": "text/x-python",
   "name": "python",
   "nbconvert_exporter": "python",
   "pygments_lexer": "ipython3",
   "version": "3.8.3"
  }
 },
 "nbformat": 4,
 "nbformat_minor": 5
}
